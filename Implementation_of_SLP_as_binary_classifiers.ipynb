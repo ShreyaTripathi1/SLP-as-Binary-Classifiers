{
  "nbformat": 4,
  "nbformat_minor": 0,
  "metadata": {
    "colab": {
      "provenance": [],
      "authorship_tag": "ABX9TyP2o/lb/J1ATSpBywgwHcku",
      "include_colab_link": true
    },
    "kernelspec": {
      "name": "python3",
      "display_name": "Python 3"
    },
    "language_info": {
      "name": "python"
    }
  },
  "cells": [
    {
      "cell_type": "markdown",
      "metadata": {
        "id": "view-in-github",
        "colab_type": "text"
      },
      "source": [
        "<a href=\"https://colab.research.google.com/github/ShreyaTripathi1/SLP-as-Binary-Classifiers/blob/main/Implementation_of_SLP_as_binary_classifiers.ipynb\" target=\"_parent\"><img src=\"https://colab.research.google.com/assets/colab-badge.svg\" alt=\"Open In Colab\"/></a>"
      ]
    },
    {
      "cell_type": "code",
      "execution_count": 1,
      "metadata": {
        "id": "GX3BywEZrk0i"
      },
      "outputs": [],
      "source": [
        "import numpy as np"
      ]
    },
    {
      "cell_type": "code",
      "source": [
        "class SingleLayerPerceptron:\n",
        "    def __init__(self, input_size, learning_rate=0.1, epochs=100):\n",
        "        # Initialize weights and bias\n",
        "        self.weights = np.zeros(input_size)\n",
        "        self.bias = 0\n",
        "        self.learning_rate = learning_rate\n",
        "        self.epochs = epochs\n",
        "\n",
        "    def activation_function(self, x):\n",
        "        # Step function for binary classification\n",
        "        return np.where(x >= 0, 1, 0)\n",
        "\n",
        "    def predict(self, inputs):\n",
        "        # Calculate the weighted sum\n",
        "        linear_output = np.dot(inputs, self.weights) + self.bias\n",
        "        # Apply the activation function (step function)\n",
        "        return self.activation_function(linear_output)\n",
        "\n",
        "    def train(self, training_inputs, labels):\n",
        "        # Training process using the Perceptron Learning Rule\n",
        "        for epoch in range(self.epochs):\n",
        "            for inputs, label in zip(training_inputs, labels):\n",
        "                prediction = self.predict(inputs)\n",
        "                # Update weights and bias\n",
        "                self.weights += self.learning_rate * (label - prediction) * inputs\n",
        "                self.bias += self.learning_rate * (label - prediction)"
      ],
      "metadata": {
        "id": "j70DSyl5tQz7"
      },
      "execution_count": 2,
      "outputs": []
    },
    {
      "cell_type": "code",
      "source": [
        "# Example usage\n",
        "if __name__ == \"__main__\":\n",
        "    # Training dataset (XOR problem)\n",
        "    training_inputs = np.array([\n",
        "        [0, 0],\n",
        "        [0, 1],\n",
        "        [1, 0],\n",
        "        [1, 1]\n",
        "    ])\n",
        "\n",
        "    # Binary labels for XOR (output should be 1 if one input is 1, else 0)\n",
        "    labels = np.array([0, 1, 1, 0])\n",
        "\n",
        "    # Create a perceptron with 2 inputs (since we have 2 features in XOR problem)\n",
        "    perceptron = SingleLayerPerceptron(input_size=2)\n",
        "\n",
        "    # Train the perceptron\n",
        "    perceptron.train(training_inputs, labels)\n",
        "\n",
        "    # Test the trained model\n",
        "    print(\"Testing the Perceptron:\")\n",
        "    for inputs in training_inputs:\n",
        "        prediction = perceptron.predict(inputs)\n",
        "        print(f\"Input: {inputs}, Predicted Output: {prediction}\")\n"
      ],
      "metadata": {
        "colab": {
          "base_uri": "https://localhost:8080/",
          "height": 0
        },
        "id": "G8VsFHagtTjC",
        "outputId": "8f97d9da-a1f4-416e-c2a0-d2a0cbe19fbb"
      },
      "execution_count": 3,
      "outputs": [
        {
          "output_type": "stream",
          "name": "stdout",
          "text": [
            "Testing the Perceptron:\n",
            "Input: [0 0], Predicted Output: 1\n",
            "Input: [0 1], Predicted Output: 1\n",
            "Input: [1 0], Predicted Output: 0\n",
            "Input: [1 1], Predicted Output: 0\n"
          ]
        }
      ]
    }
  ]
}